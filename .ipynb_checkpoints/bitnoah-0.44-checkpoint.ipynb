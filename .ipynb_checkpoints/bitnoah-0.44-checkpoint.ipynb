{
 "cells": [
  {
   "cell_type": "code",
   "execution_count": null,
   "metadata": {},
   "outputs": [],
   "source": [
    "#卖一高于0.445就挂0.445的5万到6万的单.每60秒循环一次\n"
   ]
  },
  {
   "cell_type": "code",
   "execution_count": 1,
   "metadata": {},
   "outputs": [],
   "source": [
    "import requests\n",
    "import hashlib\n",
    "import random\n",
    "import time\n",
    "\n",
    "data = {\n",
    "    'cid': \"1\",\n",
    "    'funcid': \"1\",            # BTC_ETH\n",
    "    'userid': '322276',    # 限价交易\n",
    "    'phone': \"15728090310\",       # BUY SELL\n",
    "    'passwd': hashlib.md5(\"0310zhangzh\".encode('utf-8')).hexdigest(),\n",
    "    'coin': \"XPV_USDT\"\n",
    "}\n",
    "\n",
    "def get_depth():\n",
    "    sign_str = \"1\"+\"XPV_USDT\"+\"1\"+hashlib.md5(\"0310zhangzh\".encode('utf-8')).hexdigest()+\"15728090310\"+\"332031\"+\"29e7cd1355568058051e313c5h10d6wd882d2d9487984a2v083958d07fQ1eeM0\"\n",
    "    sign_res = hashlib.md5(sign_str.encode('utf-8')).hexdigest()\n",
    "\n",
    "    url = \"http://www.wlex.me/intf/v2.jsp?\"+\"cid=1&\"+\"coin=XPV_USDT&\"+\"funcid=1&\"+\"phone=15728090310&\"+\\\n",
    "    \"passwd=\"+hashlib.md5(\"0310zhangzh\".encode('utf-8')).hexdigest()+\"&\"+\"sign=\"+sign_res+\"&\"+\"userid=332031\"\n",
    "    r = requests.get(url)\n",
    "    res = r.text\n",
    "    rese = eval(res)\n",
    "    #print (rese)\n",
    "    ask1 = float(rese['sales'][0]['price'])\n",
    "    bid1 = float(rese['buys'][0]['price'])\n",
    "    return ask1,bid1\n",
    "    \n",
    "\n",
    "def sell(price_buy,vol_buy):\n",
    "    sign_str = \"S1\"+\"XPV_USDT\"+\"2\"+str(vol_buy)+hashlib.md5(\"0310zhangzh\".encode('utf-8')).hexdigest()+\"15728090310\"+str(price_buy)+\"332031\"+\"29e7cd1355568058051e313c5h10d6wd882d2d9487984a2v083958d07fQ1eeM0\"\n",
    "    sign_res = hashlib.md5(sign_str.encode('utf-8')).hexdigest()\n",
    "    url = \"http://www.wlex.me/intf/v2.jsp?\"+\"cid=1&\"+\"coin=XPV_USDT&\"+\"funcid=2&\"+\"phone=15728090310\"+\"&\"+\"passwd=\"+hashlib.md5(\"0310zhangzh\".encode('utf-8')).hexdigest()+\"&\"+\"sign=\"+sign_res+\"&\"+\"userid=332031\"+\"&price=\"+str(price_buy)+\"&num=\"+str(vol_buy)+\"&bs=S\"\n",
    "    r = requests.get(url)\n",
    "    res = r.text.replace(\"\\n\",\"\")\n",
    "    print (res)\n",
    "    \n",
    "    \n",
    "def buy(price_buy,vol_buy):\n",
    "    sign_str = \"B1\"+\"XPV_USDT\"+\"2\"+str(vol_buy)+hashlib.md5(\"0310zhangzh\".encode('utf-8')).hexdigest()+\"15728090310\"+str(price_buy)+\"332031\"+\"29e7cd1355568058051e313c5h10d6wd882d2d9487984a2v083958d07fQ1eeM0\"\n",
    "    sign_res = hashlib.md5(sign_str.encode('utf-8')).hexdigest()\n",
    "    url = \"http://www.wlex.me/intf/v2.jsp?\"+\"cid=1&\"+\"coin=XPV_USDT&\"+\"funcid=2&\"+\"phone=15728090310\"+\"&\"+\"passwd=\"+hashlib.md5(\"0310zhangzh\".encode('utf-8')).hexdigest()+\"&\"+\"sign=\"+sign_res+\"&\"+\"userid=332031\"+\"&price=\"+str(price_buy)+\"&num=\"+str(vol_buy)+\"&bs=B\"\n",
    "    r = requests.get(url)\n",
    "    res = r.text.replace(\"\\n\",\"\")\n",
    "    print (res)"
   ]
  },
  {
   "cell_type": "code",
   "execution_count": null,
   "metadata": {},
   "outputs": [],
   "source": [
    "import time,random\n",
    "while True:\n",
    "    ask1,bid1 = get_depth()\n",
    "    if ask1>0.0516:\n",
    "        price_buy = 0.0516\n",
    "        vol_buy = random.randint(20000,30000)\n",
    "        sell(price_buy,vol_buy)\n",
    "    time.sleep(120)"
   ]
  },
  {
   "cell_type": "code",
   "execution_count": null,
   "metadata": {},
   "outputs": [],
   "source": []
  }
 ],
 "metadata": {
  "kernelspec": {
   "display_name": "Python 3",
   "language": "python",
   "name": "python3"
  },
  "language_info": {
   "codemirror_mode": {
    "name": "ipython",
    "version": 3
   },
   "file_extension": ".py",
   "mimetype": "text/x-python",
   "name": "python",
   "nbconvert_exporter": "python",
   "pygments_lexer": "ipython3",
   "version": "3.6.8"
  }
 },
 "nbformat": 4,
 "nbformat_minor": 2
}
